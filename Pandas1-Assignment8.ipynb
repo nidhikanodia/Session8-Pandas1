{
 "cells": [
  {
   "cell_type": "code",
   "execution_count": 5,
   "metadata": {},
   "outputs": [
    {
     "name": "stdout",
     "output_type": "stream",
     "text": [
      "   X  Y\n",
      "0  7  1\n",
      "1  2  2\n",
      "2  0  0\n",
      "3  3  1\n",
      "4  4  2\n",
      "5  2  3\n",
      "6  5  4\n",
      "7  0  0\n",
      "8  3  1\n",
      "9  4  2\n"
     ]
    }
   ],
   "source": [
    "#Question 1: Count distance to the previous zero\n",
    "\n",
    "#import pandas package\n",
    "import pandas as pd\n",
    "\n",
    "#Create the input dataframe\n",
    "df = pd.DataFrame({'X': [7, 2, 0, 3, 4, 2, 5, 0, 3, 4]})\n",
    "\n",
    "#Initialize an empty list that would store the result\n",
    "list1 = []\n",
    "\n",
    "#Initialize the starting indexes to 0 and 1\n",
    "j = 1\n",
    "k = j-1\n",
    "\n",
    "#Loop through the Series in dataframe\n",
    "for i in df['X']:\n",
    "    try:\n",
    "        #Find the index of 0 in the given series starting from index of last 0 elememnt and current element's index\n",
    "        index = pd.Index(df['X'][k:j]).get_loc(0)\n",
    "        #If the current element is 0, initialize the starting index to current index minus 1\n",
    "        if i == 0:\n",
    "            k=j-1 \n",
    "        #Append the distance of current element from the last 0 element's index\n",
    "        list1.append(j-k-1)\n",
    "    except:\n",
    "        #If 0 is not found prior to current element, append the index of current element itslef to the list\n",
    "        list1.append(j)\n",
    "        \n",
    "    #Increment the current element's index\n",
    "    j = j + 1\n",
    "\n",
    "#Add the output list as new column 'Y' to existing dataframe\n",
    "df['Y'] = pd.Series(list1)\n",
    "\n",
    "#Print the contents of dataframe\n",
    "print(df)"
   ]
  },
  {
   "cell_type": "code",
   "execution_count": 49,
   "metadata": {},
   "outputs": [
    {
     "name": "stdout",
     "output_type": "stream",
     "text": [
      "2015-01-01    533\n",
      "2015-01-02    700\n",
      "2015-01-03    797\n",
      "2015-01-04    765\n",
      "2015-01-05    918\n",
      "2015-01-06    131\n",
      "2015-01-07    208\n",
      "2015-01-08      9\n",
      "2015-01-09    606\n",
      "2015-01-10    880\n",
      "2015-01-11    489\n",
      "2015-01-12    904\n",
      "2015-01-13    395\n",
      "2015-01-14    184\n",
      "2015-01-15    240\n",
      "2015-01-16    535\n",
      "2015-01-17    696\n",
      "2015-01-18     80\n",
      "2015-01-19    651\n",
      "2015-01-20    694\n",
      "2015-01-21    806\n",
      "2015-01-22    716\n",
      "2015-01-23     81\n",
      "2015-01-24    287\n",
      "2015-01-25    383\n",
      "2015-01-26     52\n",
      "2015-01-27    440\n",
      "2015-01-28     64\n",
      "2015-01-29    554\n",
      "2015-01-30    123\n",
      "             ... \n",
      "2015-12-02    785\n",
      "2015-12-03     69\n",
      "2015-12-04    538\n",
      "2015-12-05    838\n",
      "2015-12-06    334\n",
      "2015-12-07    427\n",
      "2015-12-08      9\n",
      "2015-12-09     60\n",
      "2015-12-10    450\n",
      "2015-12-11    988\n",
      "2015-12-12    764\n",
      "2015-12-13    587\n",
      "2015-12-14    447\n",
      "2015-12-15    841\n",
      "2015-12-16    744\n",
      "2015-12-17    305\n",
      "2015-12-18    858\n",
      "2015-12-19    945\n",
      "2015-12-20    450\n",
      "2015-12-21    866\n",
      "2015-12-22    711\n",
      "2015-12-23    832\n",
      "2015-12-24     34\n",
      "2015-12-25    664\n",
      "2015-12-26    175\n",
      "2015-12-27    905\n",
      "2015-12-28    157\n",
      "2015-12-29    818\n",
      "2015-12-30    964\n",
      "2015-12-31    818\n",
      "Freq: D, Length: 365, dtype: int32\n"
     ]
    }
   ],
   "source": [
    "#Question 2: A DatetimeIndex that contains each business day of 2015 and used to index a Series of random numbers\n",
    "\n",
    "#import pandas and numpy package\n",
    "import pandas as pd\n",
    "import numpy as np\n",
    "\n",
    "#Create a DateTimeIndex for each businsse day of 2015 (freq = 'D')\n",
    "dtindx = pd.date_range(\"1-1-2015\", periods=365, freq='D')\n",
    "\n",
    "#Create a list of random numbers having value less than 1000\n",
    "rnd = np.random.randint(1000,size=365)\n",
    "\n",
    "#Use DateTimeIndex dtindx to index the series of random numbers rnd\n",
    "series1 = pd.Series(rnd, index=dtindx)\n",
    "\n",
    "#Print the series with DateTimeIndex\n",
    "print(series1)"
   ]
  },
  {
   "cell_type": "code",
   "execution_count": 48,
   "metadata": {},
   "outputs": [
    {
     "name": "stdout",
     "output_type": "stream",
     "text": [
      "The index values having day of week as 'Wednesday': \n",
      " [Timestamp('2015-01-07 00:00:00', freq='D'), Timestamp('2015-01-14 00:00:00', freq='D'), Timestamp('2015-01-21 00:00:00', freq='D'), Timestamp('2015-01-28 00:00:00', freq='D'), Timestamp('2015-02-04 00:00:00', freq='D'), Timestamp('2015-02-11 00:00:00', freq='D'), Timestamp('2015-02-18 00:00:00', freq='D'), Timestamp('2015-02-25 00:00:00', freq='D'), Timestamp('2015-03-04 00:00:00', freq='D'), Timestamp('2015-03-11 00:00:00', freq='D'), Timestamp('2015-03-18 00:00:00', freq='D'), Timestamp('2015-03-25 00:00:00', freq='D'), Timestamp('2015-04-01 00:00:00', freq='D'), Timestamp('2015-04-08 00:00:00', freq='D'), Timestamp('2015-04-15 00:00:00', freq='D'), Timestamp('2015-04-22 00:00:00', freq='D'), Timestamp('2015-04-29 00:00:00', freq='D'), Timestamp('2015-05-06 00:00:00', freq='D'), Timestamp('2015-05-13 00:00:00', freq='D'), Timestamp('2015-05-20 00:00:00', freq='D'), Timestamp('2015-05-27 00:00:00', freq='D'), Timestamp('2015-06-03 00:00:00', freq='D'), Timestamp('2015-06-10 00:00:00', freq='D'), Timestamp('2015-06-17 00:00:00', freq='D'), Timestamp('2015-06-24 00:00:00', freq='D'), Timestamp('2015-07-01 00:00:00', freq='D'), Timestamp('2015-07-08 00:00:00', freq='D'), Timestamp('2015-07-15 00:00:00', freq='D'), Timestamp('2015-07-22 00:00:00', freq='D'), Timestamp('2015-07-29 00:00:00', freq='D'), Timestamp('2015-08-05 00:00:00', freq='D'), Timestamp('2015-08-12 00:00:00', freq='D'), Timestamp('2015-08-19 00:00:00', freq='D'), Timestamp('2015-08-26 00:00:00', freq='D'), Timestamp('2015-09-02 00:00:00', freq='D'), Timestamp('2015-09-09 00:00:00', freq='D'), Timestamp('2015-09-16 00:00:00', freq='D'), Timestamp('2015-09-23 00:00:00', freq='D'), Timestamp('2015-09-30 00:00:00', freq='D'), Timestamp('2015-10-07 00:00:00', freq='D'), Timestamp('2015-10-14 00:00:00', freq='D'), Timestamp('2015-10-21 00:00:00', freq='D'), Timestamp('2015-10-28 00:00:00', freq='D'), Timestamp('2015-11-04 00:00:00', freq='D'), Timestamp('2015-11-11 00:00:00', freq='D'), Timestamp('2015-11-18 00:00:00', freq='D'), Timestamp('2015-11-25 00:00:00', freq='D'), Timestamp('2015-12-02 00:00:00', freq='D'), Timestamp('2015-12-09 00:00:00', freq='D'), Timestamp('2015-12-16 00:00:00', freq='D'), Timestamp('2015-12-23 00:00:00', freq='D'), Timestamp('2015-12-30 00:00:00', freq='D')]\n",
      "The sum of the values in series1 for every Wednesday is:  26244\n"
     ]
    }
   ],
   "source": [
    "#Question 3: The sum of the values in series1 for every Wednesday\n",
    "\n",
    "#Import package functools\n",
    "import functools\n",
    "\n",
    "#Fitler the indexes where day of week = 'Wednesday' (numeric value is 2 as Monday is 0, Tuesday is 1, and so on)\n",
    "list1 = list((filter(lambda x: x.weekday() == 2, series1.index )))\n",
    "#Print the index values having day of week as 'Wednesday'\n",
    "print(\"The index values having day of week as 'Wednesday': \\n\", list1)\n",
    "\n",
    "#Get the values from series where the index contains day of week as 'Wednesday'\n",
    "values = map(lambda x: series1[x], list1)\n",
    "\n",
    "#Sum all the values from the series where day of week is 'Wednesday'\n",
    "sum = functools.reduce(lambda x,y: x+y, values)\n",
    "\n",
    "#Print sum\n",
    "print(\"The sum of the values in series1 for every Wednesday is: \", sum)"
   ]
  },
  {
   "cell_type": "code",
   "execution_count": 50,
   "metadata": {},
   "outputs": [
    {
     "name": "stdout",
     "output_type": "stream",
     "text": [
      "Average for each calendar month is: \n",
      " 2015-01-31    461.064516\n",
      "2015-02-28    555.678571\n",
      "2015-03-31    420.161290\n",
      "2015-04-30    571.766667\n",
      "2015-05-31    406.516129\n",
      "2015-06-30    494.233333\n",
      "2015-07-31    490.129032\n",
      "2015-08-31    597.580645\n",
      "2015-09-30    506.766667\n",
      "2015-10-31    465.806452\n",
      "2015-11-30    443.000000\n",
      "2015-12-31    591.645161\n",
      "Freq: M, dtype: float64\n"
     ]
    }
   ],
   "source": [
    "#Question 4: The average For each calendar month\n",
    "\n",
    "#Group the data by month (freq = 'M') and find average (mean) for each calendar month\n",
    "average = series1.groupby(pd.Grouper(freq='M')).mean()\n",
    "\n",
    "#Print the average for each calendar month\n",
    "print('Average for each calendar month is: \\n', average)"
   ]
  },
  {
   "cell_type": "code",
   "execution_count": 51,
   "metadata": {},
   "outputs": [
    {
     "name": "stdout",
     "output_type": "stream",
     "text": [
      "For each group of four consecutive calendar months, the date on which maximum value occurred: \n",
      " 2015-01-01   2015-03-02\n",
      "2015-05-01   2015-08-04\n",
      "2015-09-01   2015-10-03\n",
      "Freq: 4MS, dtype: datetime64[ns]\n"
     ]
    }
   ],
   "source": [
    "#Question 5: For each group of four consecutive calendar months in series1, the date on which the highest value occurred\n",
    "\n",
    "#Group the 4 consecutive calendar months, and find the index with max value \n",
    "result = series1.groupby(pd.Grouper(freq='4MS')).idxmax()\n",
    "\n",
    "#Print the date with maximum value in each group of four consecutive calendar months\n",
    "print(\"For each group of four consecutive calendar months, the date on which maximum value occurred: \\n\", result)"
   ]
  },
  {
   "cell_type": "code",
   "execution_count": null,
   "metadata": {},
   "outputs": [],
   "source": []
  }
 ],
 "metadata": {
  "kernelspec": {
   "display_name": "Python 3",
   "language": "python",
   "name": "python3"
  },
  "language_info": {
   "codemirror_mode": {
    "name": "ipython",
    "version": 3
   },
   "file_extension": ".py",
   "mimetype": "text/x-python",
   "name": "python",
   "nbconvert_exporter": "python",
   "pygments_lexer": "ipython3",
   "version": "3.7.2"
  }
 },
 "nbformat": 4,
 "nbformat_minor": 2
}
